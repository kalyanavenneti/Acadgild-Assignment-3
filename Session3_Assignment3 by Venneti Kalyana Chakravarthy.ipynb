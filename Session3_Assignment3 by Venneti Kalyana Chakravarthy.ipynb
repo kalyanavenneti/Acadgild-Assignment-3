{
 "cells": [
  {
   "cell_type": "markdown",
   "metadata": {},
   "source": [
    "# Date 3rd September 2018 - Session 3 - Assignment 3"
   ]
  },
  {
   "cell_type": "code",
   "execution_count": 12,
   "metadata": {},
   "outputs": [
    {
     "name": "stdout",
     "output_type": "stream",
     "text": [
      "Add function 28\n"
     ]
    }
   ],
   "source": [
    "# Question 1.1: Write a Python Program to implement your own myreduce() function which works exactly like Python's \n",
    "# built-in function reduce()\n",
    "\n",
    "\n",
    "def myreducefunc(func_input,list_input):\n",
    "    l1=list_input[0]\n",
    "    l2=list_input[1]\n",
    "    output=func_input(l1,l2)\n",
    "    l1=output\n",
    "    count=0\n",
    "    for val in list_input:\n",
    "        count=count+1\n",
    "        if count > 2:\n",
    "            l2 = val\n",
    "            output=func_input(l1,l2)\n",
    "            l1=output\n",
    "    return output\n",
    "  \n",
    "def funcAdd(a,b):\n",
    "    return a+b\n",
    "\n",
    "list_input=[1,2,3,4,5,6,7]\n",
    "print(\"Add function\", myreducefunc(funcAdd, list_input))"
   ]
  },
  {
   "cell_type": "code",
   "execution_count": 16,
   "metadata": {},
   "outputs": [
    {
     "name": "stdout",
     "output_type": "stream",
     "text": [
      "\n",
      "Even Numbers from list: \n",
      "\t [2, 4, 6, 8, 10, 12, 14, 16, 18, 20, 22, 24, 26, 28, 30, 32, 34, 36, 38, 40, 42, 44, 46, 48]\n",
      "\n",
      "Odd Number from list: \n",
      "\t [1, 3, 5, 7, 9, 11, 13, 15, 17, 19, 21, 23, 25, 27, 29, 31, 33, 35, 37, 39, 41, 43, 45, 47, 49]\n"
     ]
    }
   ],
   "source": [
    "# Question 1.2: Write a Python program to implement your own myfilter() function which works exactly like Python's \n",
    "# built-in function filter()\n",
    "\n",
    "def myfilter(Func_input,List_input):    \n",
    "    Output=[]\n",
    "    for item in List_input:\n",
    "        if Func_input(item)==True:\n",
    "            Output.append(item)\n",
    "    return Output\n",
    "\n",
    "#Event Check Functions\n",
    "def Func_Even(int_Input):\n",
    "    if int_Input%2==0:\n",
    "        return True\n",
    "\n",
    "def Func_Odd(int_Input):\n",
    "    if int_Input%2!=0:\n",
    "        return True\n",
    "\n",
    "List_input=list(range(1,50))\n",
    "print('\\nEven Numbers from list: \\n\\t', myfilter(Func_Even, List_input))\n",
    "print('\\nOdd Number from list: \\n\\t', myfilter(Func_Odd, List_input))"
   ]
  },
  {
   "cell_type": "code",
   "execution_count": 17,
   "metadata": {},
   "outputs": [
    {
     "name": "stdout",
     "output_type": "stream",
     "text": [
      "['A', 'C', 'A', 'D', 'G', 'I', 'L', 'D']\n",
      "['x', 'xx', 'xxx', 'xxxx', 'y', 'yy', 'yyy', 'yyyy', 'z', 'zz', 'zzz', 'zzzz']\n",
      "['x', 'y', 'z', 'xx', 'yy', 'zz', 'xxx', 'yyy', 'zzz', 'xxxx', 'yyyy', 'zzzz']\n",
      "[[2], [3], [4], [3], [4], [5], [4], [5], [6]]\n",
      "[[2, 3, 4, 5], [3, 4, 5, 6], [4, 5, 6, 7], [5, 6, 7, 8]]\n",
      "[(1, 1), (2, 1), (3, 1), (1, 2), (2, 2), (3, 2), (1, 3), (2, 3), (3, 3)]\n"
     ]
    }
   ],
   "source": [
    "# Question 2: Implement List comprehensions to produce the following lists.\n",
    "#Write List comprehensions to produce the following Lists\n",
    "#['A', 'C', 'A', 'D', 'G', 'I', ’L’, ‘ D’]\n",
    "#['x', 'xx', 'xxx', 'xxxx', 'y', 'yy', 'yyy', 'yyyy', 'z', 'zz', 'zzz', 'zzzz']\n",
    "#['x', 'y', 'z', 'xx', 'yy', 'zz', 'xx', 'yy', 'zz', 'xxxx', 'yyyy', 'zzzz']\n",
    "#[[2], [3], [4], [3], [4], [5], [4], [5], [6]]\n",
    "#[[2, 3, 4, 5], [3, 4, 5, 6], [4, 5, 6, 7], [5, 6, 7, 8]]\n",
    "\n",
    "list1=[letter for letter in 'ACADGILD']\n",
    "print(list1)\n",
    "\n",
    "str1=('x','y','z')\n",
    "list2=[val*num for val in str1 for num in range(1,5)]\n",
    "print(list2)\n",
    "\n",
    "str1=('x','y','z')\n",
    "list3=[val*num for num in range(1,5) for val in str1]\n",
    "print(list3)\n",
    "\n",
    "int1=(2,3,4)\n",
    "list4=[[val+num] for val in int1 for num in range(0,3)]\n",
    "print(list4)\n",
    "\n",
    "int1=(2,3,4,5)\n",
    "list5=[[val+num for val in int1] for num in range(0,4)]\n",
    "print(list5)\n",
    "\n",
    "int2=(1,2,3) \n",
    "list6=[(num, val) for val in int2 for num in range(1,4)]\n",
    "print(list6)"
   ]
  },
  {
   "cell_type": "code",
   "execution_count": 22,
   "metadata": {},
   "outputs": [
    {
     "name": "stdout",
     "output_type": "stream",
     "text": [
      "List of words: \n",
      " ['Implement', 'List', 'comprehensions', 'to', 'produce', 'the', 'following', 'lists'] \n",
      "\n",
      "Longest word: \n",
      " comprehensions\n"
     ]
    }
   ],
   "source": [
    "# Question 3: Implement a function longestWord() that takes a list of words and returns the longest one\n",
    "\n",
    "def longestword(word_input):\n",
    "    long_word=''\n",
    "    for word in word_input:        \n",
    "        if len(long_word)<len(word):\n",
    "            long_word=word\n",
    "    return long_word\n",
    "\n",
    "\n",
    "#Call the function with a list\n",
    "str1='Implement List comprehensions to produce the following lists'\n",
    "Words=list(str1.split(' '))\n",
    "print('List of words: \\n',Words, '\\n')\n",
    "print('Longest word: \\n',longestword(Words))"
   ]
  }
 ],
 "metadata": {
  "kernelspec": {
   "display_name": "Python 3",
   "language": "python",
   "name": "python3"
  },
  "language_info": {
   "codemirror_mode": {
    "name": "ipython",
    "version": 3
   },
   "file_extension": ".py",
   "mimetype": "text/x-python",
   "name": "python",
   "nbconvert_exporter": "python",
   "pygments_lexer": "ipython3",
   "version": "3.6.5"
  }
 },
 "nbformat": 4,
 "nbformat_minor": 2
}
